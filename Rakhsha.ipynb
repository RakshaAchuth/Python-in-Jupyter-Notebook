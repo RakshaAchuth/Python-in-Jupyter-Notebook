{
 "cells": [
  {
   "cell_type": "code",
   "execution_count": 1,
   "metadata": {
    "collapsed": true
   },
   "outputs": [],
   "source": [
    "import pandas as pd\n",
    "import json\n",
    "from pandas.io.json import json_normalize\n",
    "#import timeit"
   ]
  },
  {
   "cell_type": "code",
   "execution_count": 2,
   "metadata": {
    "collapsed": false
   },
   "outputs": [],
   "source": [
    "def readFromCSV(filename):\n",
    "    df = pd.read_csv(filename,header=None)\n",
    "    return len(df[df[\"ORDERKEY\"]==1])"
   ]
  },
  {
   "cell_type": "code",
   "execution_count": 3,
   "metadata": {
    "collapsed": false
   },
   "outputs": [],
   "source": [
    "#read json data into dataframe\n",
    "def readJsonData(filename,i):\n",
    "    with open(filename) as data_file:    \n",
    "        abc = json.load(data_file)\n",
    "    xyz = pd.read_json(abc)\n",
    "    return len(xyz[xyz['ORDERKEY']==1])"
   ]
  },
  {
   "cell_type": "code",
   "execution_count": 12,
   "metadata": {
    "collapsed": false
   },
   "outputs": [
    {
     "ename": "SyntaxError",
     "evalue": "invalid syntax (<ipython-input-12-67dc98a0d6ea>, line 2)",
     "output_type": "error",
     "traceback": [
      "\u001b[0;36m  File \u001b[0;32m\"<ipython-input-12-67dc98a0d6ea>\"\u001b[0;36m, line \u001b[0;32m2\u001b[0m\n\u001b[0;31m    timeit -n 100 readJsonData('C:\\Users\\Raksha\\data.json')\u001b[0m\n\u001b[0m                ^\u001b[0m\n\u001b[0;31mSyntaxError\u001b[0m\u001b[0;31m:\u001b[0m invalid syntax\n"
     ]
    }
   ],
   "source": [
    "#i = int(raw_input('Enter orderkey??'))\n",
    "timeit -n 100 readJsonData('C:\\Users\\Raksha\\data.json')"
   ]
  },
  {
   "cell_type": "code",
   "execution_count": 11,
   "metadata": {
    "collapsed": false
   },
   "outputs": [
    {
     "ename": "SyntaxError",
     "evalue": "invalid syntax (<ipython-input-11-97f9453b737e>, line 2)",
     "output_type": "error",
     "traceback": [
      "\u001b[0;36m  File \u001b[0;32m\"<ipython-input-11-97f9453b737e>\"\u001b[0;36m, line \u001b[0;32m2\u001b[0m\n\u001b[0;31m    timeit -n 100 readFromCSV(\"E:\\SOSE 17\\Project\\Jupyter Notebook\\lineitem.csv\")\u001b[0m\n\u001b[0m                ^\u001b[0m\n\u001b[0;31mSyntaxError\u001b[0m\u001b[0;31m:\u001b[0m invalid syntax\n"
     ]
    }
   ],
   "source": [
    "#j = int(raw_input('Enter orderkey??'))\n",
    "timeit -n 100 readFromCSV(\"E:\\SOSE 17\\Project\\Jupyter Notebook\\lineitem.csv\")"
   ]
  },
  {
   "cell_type": "code",
   "execution_count": 5,
   "metadata": {
    "collapsed": false
   },
   "outputs": [
    {
     "name": "stdout",
     "output_type": "stream",
     "text": [
      "4\n"
     ]
    }
   ],
   "source": [
    "# read lineitem.csv file and to verify everything is working good see the number of rows in original file and compare to len df\n",
    "df = pd.read_csv('E:\\SOSE 17\\Project\\Jupyter Notebook\\lineitem.csv', header = None)\n",
    "df.columns = ['ORDERKEY','PARTKEY','SUPPKEY','LINENUMBER','QUANTITY','EXTENDEDPRICE','DISCOUNT','TAX','RETURNFLAG','LINESTATUS','SHIPDATE','COMMITDATE','RECEIPTDATE','SHIPINSTRUCT','SHIPMODE','COMMENT']\n",
    "print len(df)"
   ]
  },
  {
   "cell_type": "code",
   "execution_count": 6,
   "metadata": {
    "collapsed": false
   },
   "outputs": [
    {
     "data": {
      "text/html": [
       "<div>\n",
       "<table border=\"1\" class=\"dataframe\">\n",
       "  <thead>\n",
       "    <tr style=\"text-align: right;\">\n",
       "      <th></th>\n",
       "      <th>ORDERKEY</th>\n",
       "      <th>PARTKEY</th>\n",
       "      <th>SUPPKEY</th>\n",
       "      <th>LINENUMBER</th>\n",
       "      <th>QUANTITY</th>\n",
       "      <th>EXTENDEDPRICE</th>\n",
       "      <th>DISCOUNT</th>\n",
       "      <th>TAX</th>\n",
       "      <th>RETURNFLAG</th>\n",
       "      <th>LINESTATUS</th>\n",
       "      <th>SHIPDATE</th>\n",
       "      <th>COMMITDATE</th>\n",
       "      <th>RECEIPTDATE</th>\n",
       "      <th>SHIPINSTRUCT</th>\n",
       "      <th>SHIPMODE</th>\n",
       "      <th>COMMENT</th>\n",
       "    </tr>\n",
       "  </thead>\n",
       "  <tbody>\n",
       "    <tr>\n",
       "      <th>0</th>\n",
       "      <td>orderkey</td>\n",
       "      <td>partkey</td>\n",
       "      <td>suppkey</td>\n",
       "      <td>linenumber</td>\n",
       "      <td>quantity</td>\n",
       "      <td>extendedprice</td>\n",
       "      <td>discount</td>\n",
       "      <td>tax</td>\n",
       "      <td>returnflag</td>\n",
       "      <td>linestatus</td>\n",
       "      <td>shipdate</td>\n",
       "      <td>commitdate</td>\n",
       "      <td>receiptdate</td>\n",
       "      <td>shipinstruct</td>\n",
       "      <td>shipmode</td>\n",
       "      <td>comment</td>\n",
       "    </tr>\n",
       "    <tr>\n",
       "      <th>1</th>\n",
       "      <td>1</td>\n",
       "      <td>1</td>\n",
       "      <td>1</td>\n",
       "      <td>1</td>\n",
       "      <td>2</td>\n",
       "      <td>30</td>\n",
       "      <td>2</td>\n",
       "      <td>4</td>\n",
       "      <td>TRUE</td>\n",
       "      <td>done</td>\n",
       "      <td>23-01-2017</td>\n",
       "      <td>21-05-2017</td>\n",
       "      <td>23-08-2017</td>\n",
       "      <td>sample</td>\n",
       "      <td>sample</td>\n",
       "      <td>sample</td>\n",
       "    </tr>\n",
       "    <tr>\n",
       "      <th>2</th>\n",
       "      <td>2</td>\n",
       "      <td>2</td>\n",
       "      <td>2</td>\n",
       "      <td>2</td>\n",
       "      <td>3</td>\n",
       "      <td>23</td>\n",
       "      <td>4</td>\n",
       "      <td>4</td>\n",
       "      <td>FALSE</td>\n",
       "      <td>done</td>\n",
       "      <td>21-12-2017</td>\n",
       "      <td>11-11-2017</td>\n",
       "      <td>13-12-2017</td>\n",
       "      <td>sample2</td>\n",
       "      <td>sample2</td>\n",
       "      <td>sample2</td>\n",
       "    </tr>\n",
       "    <tr>\n",
       "      <th>3</th>\n",
       "      <td>3</td>\n",
       "      <td>3</td>\n",
       "      <td>3</td>\n",
       "      <td>3</td>\n",
       "      <td>6</td>\n",
       "      <td>33</td>\n",
       "      <td>4</td>\n",
       "      <td>4</td>\n",
       "      <td>TRUE</td>\n",
       "      <td>in progeress</td>\n",
       "      <td>12-12-2012</td>\n",
       "      <td>10-10-2010</td>\n",
       "      <td>07/087/07</td>\n",
       "      <td>sample3</td>\n",
       "      <td>sample3</td>\n",
       "      <td>sample3</td>\n",
       "    </tr>\n",
       "  </tbody>\n",
       "</table>\n",
       "</div>"
      ],
      "text/plain": [
       "   ORDERKEY  PARTKEY  SUPPKEY  LINENUMBER  QUANTITY  EXTENDEDPRICE  DISCOUNT  \\\n",
       "0  orderkey  partkey  suppkey  linenumber  quantity  extendedprice  discount   \n",
       "1         1        1        1           1         2             30         2   \n",
       "2         2        2        2           2         3             23         4   \n",
       "3         3        3        3           3         6             33         4   \n",
       "\n",
       "   TAX  RETURNFLAG    LINESTATUS    SHIPDATE  COMMITDATE  RECEIPTDATE  \\\n",
       "0  tax  returnflag    linestatus    shipdate  commitdate  receiptdate   \n",
       "1    4        TRUE          done  23-01-2017  21-05-2017   23-08-2017   \n",
       "2    4       FALSE          done  21-12-2017  11-11-2017   13-12-2017   \n",
       "3    4        TRUE  in progeress  12-12-2012  10-10-2010    07/087/07   \n",
       "\n",
       "   SHIPINSTRUCT  SHIPMODE  COMMENT  \n",
       "0  shipinstruct  shipmode  comment  \n",
       "1        sample    sample   sample  \n",
       "2       sample2   sample2  sample2  \n",
       "3       sample3   sample3  sample3  "
      ]
     },
     "execution_count": 6,
     "metadata": {},
     "output_type": "execute_result"
    }
   ],
   "source": [
    "df.head(5)"
   ]
  },
  {
   "cell_type": "code",
   "execution_count": 7,
   "metadata": {
    "collapsed": false
   },
   "outputs": [],
   "source": [
    "#convert csv to json document store\n",
    "data = df.to_json(orient='records')\n",
    "with open('data.json', 'w') as outfile:\n",
    "    json.dump(data, outfile)"
   ]
  },
  {
   "cell_type": "code",
   "execution_count": null,
   "metadata": {
    "collapsed": true
   },
   "outputs": [],
   "source": []
  }
 ],
 "metadata": {
  "kernelspec": {
   "display_name": "Python 2",
   "language": "python",
   "name": "python2"
  },
  "language_info": {
   "codemirror_mode": {
    "name": "ipython",
    "version": 2
   },
   "file_extension": ".py",
   "mimetype": "text/x-python",
   "name": "python",
   "nbconvert_exporter": "python",
   "pygments_lexer": "ipython2",
   "version": "2.7.13"
  }
 },
 "nbformat": 4,
 "nbformat_minor": 0
}
